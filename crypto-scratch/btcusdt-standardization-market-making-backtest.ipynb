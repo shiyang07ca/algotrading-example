{
 "cells": [
  {
   "cell_type": "code",
   "execution_count": null,
   "metadata": {},
   "outputs": [
    {
     "ename": "",
     "evalue": "",
     "output_type": "error",
     "traceback": [
      "\u001b[1;31mRunning cells with 'Python 3.12.9' requires the ipykernel package.\n",
      "\u001b[1;31m<a href='command:jupyter.createPythonEnvAndSelectController'>Create a Python Environment</a> with the required packages.\n",
      "\u001b[1;31mOr install 'ipykernel' using the command: '/opt/homebrew/bin/python3.12 -m pip install ipykernel -U --user --force-reinstall'"
     ]
    }
   ],
   "source": [
    "import pandas as pd\n",
    "import numpy as np\n",
    "import scipy.stats as stats\n",
    "from sklearn.model_selection import RandomizedSearchCV\n",
    "from numba import njit"
   ]
  },
  {
   "cell_type": "code",
   "execution_count": null,
   "metadata": {},
   "outputs": [],
   "source": [
    "# Please see process_L2 in https://github.com/nkaz001/data-tardis/blob/master/tardis-process.ipynb\n",
    "#\n",
    "# x[0] price of a level in the order book\n",
    "# x[1] quantity of a level in the order book\n",
    "#\n",
    "# buy = sum(map(lambda x: x[1], filter(lambda x: x[0] > mid * (1 - p), bid.iteritems())))\n",
    "# sell = sum(map(lambda x: x[1], filter(lambda x: x[0] < mid * (1 + p), ask.iteritems())))\n",
    "# imbalance = standardize(buy - sell, 1-day)\n",
    "# \n",
    "# When not considering skew, this strategy does \n",
    "# Buy if imbalance is greater than a given threshold +T\n",
    "# Sell if imbalance is less than a given threshold -T"
   ]
  },
  {
   "cell_type": "code",
   "execution_count": null,
   "metadata": {},
   "outputs": [],
   "source": [
    "df = pd.read_pickle('btcusdt_data')\n",
    "df.iloc[:, 7:] = (df.iloc[:, 7:] - df.iloc[:, 7:].rolling('1d').mean()) / df.iloc[:, 7:].rolling('1d').std()  # 1-day rolling"
   ]
  },
  {
   "cell_type": "code",
   "execution_count": null,
   "metadata": {},
   "outputs": [],
   "source": [
    "df.columns"
   ]
  },
  {
   "cell_type": "code",
   "execution_count": null,
   "metadata": {},
   "outputs": [],
   "source": [
    "df.iloc[-25000:]"
   ]
  },
  {
   "cell_type": "code",
   "execution_count": null,
   "metadata": {},
   "outputs": [],
   "source": [
    "@njit\n",
    "def predict_njit(fee_, A, B, half_spread, max_position, X, imbalance):\n",
    "    tick_size = 0.01\n",
    "    running_qty = 0\n",
    "    static_equity = 0\n",
    "    fee = 0\n",
    "    equity = []\n",
    "    running_qty_ = []\n",
    "    order_qty = 10000\n",
    "    order_qty_btc = 0\n",
    "    new_bid = np.nan\n",
    "    new_ask = np.nan\n",
    "    high = 1\n",
    "    low = 2\n",
    "    close = 3\n",
    "    volume = 4\n",
    "    best_bid = 5\n",
    "    best_ask = 6\n",
    "    for row in X:\n",
    "        # Check if the orders are filled:\n",
    "        # the bid order is considered filled if a trade happened below the order price.\n",
    "        # the ask order is considered filled if a trade happened above the order price.\n",
    "        # \n",
    "        #if np.isfinite(new_bid) \\\n",
    "        #    and (int(round(new_bid / tick_size)) < int(round(row[low] / tick_size)) or int(round(new_bid / tick_size) >= row[best_ask])) \\\n",
    "        #    and row[volume] > 0:\n",
    "        if np.isfinite(new_bid) \\\n",
    "            and int(round(new_bid / tick_size)) > int(round(row[low] / tick_size)) \\\n",
    "            and row[volume] > 0:\n",
    "            running_qty += order_qty_btc\n",
    "            static_equity -= order_qty_btc * new_bid\n",
    "            fee += order_qty_btc * new_bid * fee_    \n",
    "        #if np.isfinite(new_ask) \\\n",
    "        #    and (int(round(new_ask / tick_size)) < int(round(row[high] / tick_size)) or int(round(new_ask / tick_size) <= row[best_bid])) \\\n",
    "        #    and row[volume] > 0:\n",
    "        if np.isfinite(new_ask) \\\n",
    "            and int(round(new_ask / tick_size)) < int(round(row[high] / tick_size)) \\\n",
    "            and row[volume] > 0:\n",
    "            running_qty -= order_qty_btc\n",
    "            static_equity += order_qty_btc * new_ask\n",
    "            fee += order_qty_btc * new_ask * fee_\n",
    "        equity.append(static_equity + running_qty * row[close] - fee)\n",
    "        running_qty_.append(running_qty)\n",
    "        x = running_qty * row[close] # in $\n",
    "        skew = B * x / max_position * -1\n",
    "        quote_mid_price = row[close] + A * row[imbalance] + skew\n",
    "        # Limit the price of orders to best bid/ask in order not to take liquidity. (Due to fee)\n",
    "        new_bid = np.minimum(np.minimum(np.round(quote_mid_price * (1 - half_spread) / tick_size) * tick_size, row[close] - tick_size), row[best_bid])\n",
    "        new_ask = np.maximum(np.maximum(np.round(quote_mid_price * (1 + half_spread) / tick_size) * tick_size, row[close] + tick_size), row[best_ask])\n",
    "        order_qty_btc = np.maximum(np.round(order_qty / row[close], 3), 0.001)\n",
    "        # The maximum position size is fixed in Dollar.\n",
    "        if x > max_position:\n",
    "            new_bid = np.nan\n",
    "        if x < -max_position:\n",
    "            new_ask = np.nan\n",
    "    return equity, running_qty_\n",
    "\n",
    "class Backtest:\n",
    "    def __init__(self, fee=None, max_position=None, A=None, B=None, half_spread=None, imbalance=None):\n",
    "        self.fee = fee\n",
    "        self.max_position = max_position\n",
    "        self.A = A\n",
    "        self.B = B\n",
    "        self.half_spread = half_spread\n",
    "        self.imbalance = imbalance\n",
    "        \n",
    "    def set_params(self, A, B, half_spread, imbalance):\n",
    "        self.A = A\n",
    "        self.B = B\n",
    "        self.half_spread = half_spread\n",
    "        self.imbalance = imbalance\n",
    "        return self\n",
    "        \n",
    "    def get_params(self, deep=True):\n",
    "        return { 'fee': self.fee, 'max_position': self.max_position, 'A': self.A, 'B': self.B, 'half_spread': self.half_spread, 'imbalance': self.imbalance }\n",
    "        \n",
    "    def fit(self, X, y=None):\n",
    "        return self\n",
    "    \n",
    "    def predict(self, X):\n",
    "        equity, running_qty = predict_njit(self.fee, self.A, self.B, self.half_spread, self.max_position, X, self.imbalance)\n",
    "        return equity, running_qty\n",
    "    \n",
    "    def score(self, X):\n",
    "        equity, _ = self.predict(X)\n",
    "        returns = (pd.Series(equity).diff() / self.max_position).fillna(0)\n",
    "#         bm_returns = pd.Series(X[:, 3]).pct_change().fillna(0)\n",
    "#         returns_ = returns - bm_returns\n",
    "        return np.divide(returns.mean(), returns.std())"
   ]
  },
  {
   "cell_type": "code",
   "execution_count": null,
   "metadata": {},
   "outputs": [],
   "source": [
    "train = df[(df.index >= '2021-1-1') & (df.index < '2022-1-1')]\n",
    "valid = df[df.index < '2021-1-1']"
   ]
  },
  {
   "cell_type": "code",
   "execution_count": null,
   "metadata": {},
   "outputs": [],
   "source": [
    "param_dist = { 'A': stats.uniform(1, 100), 'B': stats.uniform(1, 100), 'half_spread': stats.uniform(0, 0.001), 'imbalance': np.arange(7, 19) }\n",
    "search = RandomizedSearchCV(Backtest(0.0002, 1000000),\n",
    "                            cv=[(np.arange(len(train)), np.arange(len(train)))],\n",
    "                            param_distributions=param_dist,\n",
    "                            verbose=1,\n",
    "                            n_iter=1000,\n",
    "                            n_jobs=8)\n",
    "search.fit(train.values)"
   ]
  },
  {
   "cell_type": "code",
   "execution_count": null,
   "metadata": {},
   "outputs": [],
   "source": [
    "# v2.4 params. Feb. 15, 2022\n",
    "search.best_params_ = {\n",
    "    'A': 34.79953363189946,\n",
    "    'B': 81.73462819589255,\n",
    "    'half_spread': 0.000987752995703277,\n",
    "    'imbalance': 12\n",
    "}\n",
    "search.best_estimator_.set_params(**search.best_params_)"
   ]
  },
  {
   "cell_type": "code",
   "execution_count": null,
   "metadata": {},
   "outputs": [],
   "source": [
    "search.best_params_"
   ]
  },
  {
   "cell_type": "code",
   "execution_count": null,
   "metadata": {},
   "outputs": [],
   "source": [
    "search.best_estimator_.score(train.values)"
   ]
  },
  {
   "cell_type": "code",
   "execution_count": null,
   "metadata": {},
   "outputs": [],
   "source": [
    "equity, running_qty = search.best_estimator_.predict(train.values)\n",
    "equity = pd.Series(equity, index=train.index)\n",
    "running_qty = pd.Series(running_qty, index=train.index)"
   ]
  },
  {
   "cell_type": "code",
   "execution_count": null,
   "metadata": {},
   "outputs": [],
   "source": [
    "equity.plot()"
   ]
  },
  {
   "cell_type": "code",
   "execution_count": null,
   "metadata": {},
   "outputs": [],
   "source": [
    "train['close'].plot()"
   ]
  },
  {
   "cell_type": "code",
   "execution_count": null,
   "metadata": {},
   "outputs": [],
   "source": [
    "running_qty.plot()"
   ]
  },
  {
   "cell_type": "code",
   "execution_count": null,
   "metadata": {},
   "outputs": [],
   "source": [
    "def calc_cagr(begin, final, years):\n",
    "    if final < 0:\n",
    "        return (-1) * (((abs(final) + 2 * begin) / begin) ** (1 / years) - 1)\n",
    "    else:\n",
    "        return (final / begin) ** (1 / years) - 1"
   ]
  },
  {
   "cell_type": "code",
   "execution_count": null,
   "metadata": {},
   "outputs": [],
   "source": [
    "returns = equity.resample('1d').last().diff() / search.best_estimator_.max_position\n",
    "# bm_returns = train['close'].resample('1d').last().pct_change()\n",
    "# returns_ = returns - bm_returns\n",
    "returns_ = returns\n",
    "sr = np.divide(returns_.mean(), returns_.std()) * np.sqrt(365)\n",
    "\n",
    "equity_1d = equity.resample('1d').last()\n",
    "Roll_Max = equity_1d.cummax()\n",
    "Daily_Drawdown = (equity_1d - Roll_Max) / search.best_estimator_.max_position\n",
    "Max_Daily_Drawdown = Daily_Drawdown.cummin()\n",
    "\n",
    "period = (equity.index[-1] - equity.index[0]).days\n",
    "\n",
    "print(pd.Series({\n",
    "    'Start date': equity.index[0].strftime('%Y-%m-%d'),\n",
    "    'End date': equity.index[-1].strftime('%Y-%m-%d'),\n",
    "    'Time period (days)': period,\n",
    "    'Sharpe Ratio': sr,\n",
    "    'CAGR': calc_cagr(search.best_estimator_.max_position, search.best_estimator_.max_position + equity[-1], period / 365),\n",
    "    'Max Daily Drawdown': -Max_Daily_Drawdown.min(),\n",
    "}))\n",
    "\n",
    "returns.hist(bins=20)"
   ]
  },
  {
   "cell_type": "code",
   "execution_count": null,
   "metadata": {},
   "outputs": [],
   "source": [
    "equity, running_qty = search.best_estimator_.predict(df.values)\n",
    "equity = pd.Series(equity, index=df.index)\n",
    "running_qty = pd.Series(running_qty, index=df.index)\n",
    "\n",
    "\n",
    "returns = equity.resample('1d').last().diff() / search.best_estimator_.max_position\n",
    "#bm_returns = valid['close'].resample('1d').last().pct_change()\n",
    "#returns_ = returns - bm_returns\n",
    "returns_ = returns\n",
    "sr = np.divide(returns_.mean(), returns_.std()) * np.sqrt(365)\n",
    "\n",
    "equity_1d = equity.resample('1d').last()\n",
    "Roll_Max = equity_1d.cummax()\n",
    "Daily_Drawdown = (equity_1d - Roll_Max) / search.best_estimator_.max_position\n",
    "Max_Daily_Drawdown = Daily_Drawdown.cummin()\n",
    "\n",
    "period = (equity.index[-1] - equity.index[0]).days\n",
    "\n",
    "print(pd.Series({\n",
    "    'Start date': equity.index[0].strftime('%Y-%m-%d'),\n",
    "    'End date': equity.index[-1].strftime('%Y-%m-%d'),\n",
    "    'Time period (days)': period,\n",
    "    'Train period': '%s - %s' % (train.index[0].strftime('%Y-%m-%d'), train.index[-1].strftime('%Y-%m-%d')),\n",
    "    'Valid period': '%s - %s' % (valid.index[0].strftime('%Y-%m-%d'), valid.index[-1].strftime('%Y-%m-%d')),\n",
    "    'Sharpe ratio': sr,\n",
    "    'CAGR': calc_cagr(search.best_estimator_.max_position, search.best_estimator_.max_position + equity[-1], period / 365),\n",
    "    'RRR': calc_cagr(search.best_estimator_.max_position, search.best_estimator_.max_position + equity[-1], period / 365) / -Max_Daily_Drawdown.min(),\n",
    "    'Maximum drawdown': -Max_Daily_Drawdown.min(),\n",
    "}))\n",
    "\n",
    "# equity.resample('1d').last().pct_change().hist(bins=20)\n",
    "\n",
    "import matplotlib.pyplot as plt\n",
    "plt.figure(figsize=(8, 8))\n",
    "ax1 = (equity / search.best_estimator_.max_position * 100).plot()\n",
    "ax2 = ((df['close'] / df['close'][0] - 1) * 100).plot()\n",
    "ax1.set_ylabel('Cumulative Returns (%)')\n",
    "ax1.legend([\"Strategy's equity (VIP0 maker fee)\", 'Binance Futures BTCUSDT'])\n",
    "ax1.grid()"
   ]
  },
  {
   "cell_type": "code",
   "execution_count": null,
   "metadata": {},
   "outputs": [],
   "source": [
    "Daily_Drawdown.plot()"
   ]
  },
  {
   "cell_type": "code",
   "execution_count": null,
   "metadata": {},
   "outputs": [],
   "source": [
    "(equity / search.best_estimator_.max_position).plot()"
   ]
  },
  {
   "cell_type": "code",
   "execution_count": null,
   "metadata": {},
   "outputs": [],
   "source": [
    "equity.to_pickle(\"btcusdt-marketmaking-vip0\")"
   ]
  },
  {
   "cell_type": "code",
   "execution_count": null,
   "metadata": {},
   "outputs": [],
   "source": [
    "# v2.4 params. Feb. 15, 2022\n",
    "search.best_params_ = {\n",
    "    'A': 27.523717761230337,\n",
    "    'B': 73.23408011910584,\n",
    "    'half_spread': 0.0009954163968328592,\n",
    "    'imbalance': 12\n",
    "}\n",
    "search.best_estimator_.set_params(**search.best_params_)\n",
    "search.best_estimator_.fee = 0"
   ]
  },
  {
   "cell_type": "code",
   "execution_count": null,
   "metadata": {},
   "outputs": [],
   "source": [
    "equity, running_qty = search.best_estimator_.predict(df.values)\n",
    "equity = pd.Series(equity, index=df.index)\n",
    "running_qty = pd.Series(running_qty, index=df.index)\n",
    "\n",
    "\n",
    "returns = equity.resample('1d').last().diff() / search.best_estimator_.max_position\n",
    "#bm_returns = valid['close'].resample('1d').last().pct_change()\n",
    "#returns_ = returns - bm_returns\n",
    "returns_ = returns\n",
    "sr = np.divide(returns_.mean(), returns_.std()) * np.sqrt(365)\n",
    "\n",
    "equity_1d = equity.resample('1d').last()\n",
    "Roll_Max = equity_1d.cummax()\n",
    "Daily_Drawdown = (equity_1d - Roll_Max) / search.best_estimator_.max_position\n",
    "Max_Daily_Drawdown = Daily_Drawdown.cummin()\n",
    "\n",
    "period = (equity.index[-1] - equity.index[0]).days\n",
    "\n",
    "print(pd.Series({\n",
    "    'Start date': equity.index[0].strftime('%Y-%m-%d'),\n",
    "    'End date': equity.index[-1].strftime('%Y-%m-%d'),\n",
    "    'Time period (days)': period,\n",
    "    'Train period': '%s - %s' % (train.index[0].strftime('%Y-%m-%d'), train.index[-1].strftime('%Y-%m-%d')),\n",
    "    'Valid period': '%s - %s' % (valid.index[0].strftime('%Y-%m-%d'), valid.index[-1].strftime('%Y-%m-%d')),\n",
    "    'Sharpe ratio': sr,\n",
    "    'CAGR': calc_cagr(search.best_estimator_.max_position, search.best_estimator_.max_position + equity[-1], period / 365),\n",
    "    'RRR': calc_cagr(search.best_estimator_.max_position, search.best_estimator_.max_position + equity[-1], period / 365) / -Max_Daily_Drawdown.min(),\n",
    "    'Maximum drawdown': -Max_Daily_Drawdown.min(),\n",
    "}))\n",
    "\n",
    "# equity.resample('1d').last().pct_change().hist(bins=20)\n",
    "\n",
    "import matplotlib.pyplot as plt\n",
    "plt.figure(figsize=(8, 8))\n",
    "ax1 = (equity / search.best_estimator_.max_position * 100).plot()\n",
    "ax2 = ((df['close'] / df['close'][0] - 1) * 100).plot()\n",
    "ax1.set_ylabel('Cumulative Returns (%)')\n",
    "ax1.legend([\"Strategy's equity (VIP9 maker fee)\", 'Binance Futures BTCUSDT'])\n",
    "ax1.grid()"
   ]
  },
  {
   "cell_type": "code",
   "execution_count": null,
   "metadata": {},
   "outputs": [],
   "source": [
    "equity.to_pickle(\"btcusdt-marketmaking-vip9\")"
   ]
  }
 ],
 "metadata": {
  "kernelspec": {
   "display_name": "Python 3",
   "language": "python",
   "name": "python3"
  },
  "language_info": {
   "codemirror_mode": {
    "name": "ipython",
    "version": 3
   },
   "file_extension": ".py",
   "mimetype": "text/x-python",
   "name": "python",
   "nbconvert_exporter": "python",
   "pygments_lexer": "ipython3",
   "version": "3.12.9"
  }
 },
 "nbformat": 4,
 "nbformat_minor": 4
}
